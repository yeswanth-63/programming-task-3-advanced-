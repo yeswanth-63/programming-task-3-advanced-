{
 "cells": [
  {
   "cell_type": "markdown",
   "id": "de7f1e9d",
   "metadata": {},
   "source": [
    "# Q1.Maximum Product of Two Elements in an Array"
   ]
  },
  {
   "cell_type": "code",
   "execution_count": null,
   "id": "626d0520",
   "metadata": {},
   "outputs": [],
   "source": [
    "class Solution:\n",
    "    def maxProduct(self, nums: List[int]) -> int:\n",
    "        nums.sort()\n",
    "        return (nums[-1]-1)*(nums[-2]-1)"
   ]
  },
  {
   "cell_type": "markdown",
   "id": "a30b595a",
   "metadata": {},
   "source": [
    "# Q2.Count Number of Teams"
   ]
  },
  {
   "cell_type": "code",
   "execution_count": null,
   "id": "389a2b18",
   "metadata": {},
   "outputs": [],
   "source": [
    "class Solution:\n",
    "    def check(self,li):\n",
    "        if(li[0]==min(li) and li[-1]==max(li) and li[0]!=li[1]):\n",
    "            return True\n",
    "        elif(li[0]==max(li) and li[-1]==min(li) and li[0]!=li[1]):\n",
    "            return True\n",
    "        else:\n",
    "            return False\n",
    "        \n",
    "    def numTeams(self, li: List[int]) -> int:\n",
    "        count=0\n",
    "        for i in range(len(li)-2):\n",
    "            for j in range(i+1,len(li)-1):\n",
    "                for k in range(j+1,len(li)):\n",
    "                    li1=[]\n",
    "                    li1.append(li[i])\n",
    "                    li1.append(li[j])\n",
    "                    li1.append(li[k])\n",
    "                    if(self.check(li1)):\n",
    "                        count+=1\n",
    "        return count\n",
    "                \n"
   ]
  },
  {
   "cell_type": "markdown",
   "id": "f8c14d65",
   "metadata": {},
   "source": [
    "# Q3.Number of Students Doing Homework at a Given Time"
   ]
  },
  {
   "cell_type": "code",
   "execution_count": null,
   "id": "4f8df567",
   "metadata": {},
   "outputs": [],
   "source": [
    "class Solution:\n",
    "    def busyStudent(self, startTime: List[int], endTime: List[int], queryTime: int) -> int:\n",
    "        count=0\n",
    "        for i in range(len(startTime)):\n",
    "            if(startTime[i]<=queryTime and endTime[i]>=queryTime):\n",
    "                count+=1\n",
    "        return count\n"
   ]
  },
  {
   "cell_type": "markdown",
   "id": "7a778fbf",
   "metadata": {},
   "source": [
    "# Q4.Number of Steps to Reduce a Number to Zero"
   ]
  },
  {
   "cell_type": "code",
   "execution_count": null,
   "id": "34f8b03d",
   "metadata": {},
   "outputs": [],
   "source": [
    "class Solution:\n",
    "    def numberOfSteps(self, num: int) -> int:\n",
    "        count=0\n",
    "        while num>0:\n",
    "            if(num%2==0):\n",
    "                num=num//2\n",
    "                count+=1\n",
    "            else:\n",
    "                num=num-1\n",
    "                count+=1\n",
    "        return count"
   ]
  },
  {
   "cell_type": "markdown",
   "id": "592b9bca",
   "metadata": {},
   "source": [
    "# Q5.Counting Bits"
   ]
  },
  {
   "cell_type": "code",
   "execution_count": null,
   "id": "43f5e9b5",
   "metadata": {},
   "outputs": [],
   "source": [
    "class Solution:\n",
    "    def countBits(self, n: int) -> List[int]:\n",
    "        li=[]\n",
    "        for j in range(n+1):\n",
    "            i=j\n",
    "            count=0\n",
    "            while i>=1:\n",
    "                if(i%2!=0):\n",
    "                    count+=1\n",
    "                i=i//2\n",
    "            li.append(count)\n",
    "        return li\n"
   ]
  }
 ],
 "metadata": {
  "kernelspec": {
   "display_name": "Python 3 (ipykernel)",
   "language": "python",
   "name": "python3"
  },
  "language_info": {
   "codemirror_mode": {
    "name": "ipython",
    "version": 3
   },
   "file_extension": ".py",
   "mimetype": "text/x-python",
   "name": "python",
   "nbconvert_exporter": "python",
   "pygments_lexer": "ipython3",
   "version": "3.9.13"
  }
 },
 "nbformat": 4,
 "nbformat_minor": 5
}
